{
 "cells": [
  {
   "cell_type": "code",
   "execution_count": 1,
   "id": "285a3841-6b5e-4f13-8c89-09c82e7c2be9",
   "metadata": {},
   "outputs": [
    {
     "name": "stdout",
     "output_type": "stream",
     "text": [
      "Requirement already satisfied: mysql-connector-python in c:\\users\\madhan shyam d\\anaconda3\\lib\\site-packages (9.2.0)\n",
      "Requirement already satisfied: pandas in c:\\users\\madhan shyam d\\anaconda3\\lib\\site-packages (2.2.2)\n",
      "Requirement already satisfied: openpyxl in c:\\users\\madhan shyam d\\anaconda3\\lib\\site-packages (3.1.5)\n",
      "Requirement already satisfied: SQLAlchemy in c:\\users\\madhan shyam d\\anaconda3\\lib\\site-packages (2.0.34)\n",
      "Requirement already satisfied: numpy>=1.26.0 in c:\\users\\madhan shyam d\\anaconda3\\lib\\site-packages (from pandas) (1.26.4)\n",
      "Requirement already satisfied: python-dateutil>=2.8.2 in c:\\users\\madhan shyam d\\anaconda3\\lib\\site-packages (from pandas) (2.9.0.post0)\n",
      "Requirement already satisfied: pytz>=2020.1 in c:\\users\\madhan shyam d\\anaconda3\\lib\\site-packages (from pandas) (2024.1)\n",
      "Requirement already satisfied: tzdata>=2022.7 in c:\\users\\madhan shyam d\\anaconda3\\lib\\site-packages (from pandas) (2023.3)\n",
      "Requirement already satisfied: et-xmlfile in c:\\users\\madhan shyam d\\anaconda3\\lib\\site-packages (from openpyxl) (1.1.0)\n",
      "Requirement already satisfied: typing-extensions>=4.6.0 in c:\\users\\madhan shyam d\\anaconda3\\lib\\site-packages (from SQLAlchemy) (4.11.0)\n",
      "Requirement already satisfied: greenlet!=0.4.17 in c:\\users\\madhan shyam d\\anaconda3\\lib\\site-packages (from SQLAlchemy) (3.0.1)\n",
      "Requirement already satisfied: six>=1.5 in c:\\users\\madhan shyam d\\anaconda3\\lib\\site-packages (from python-dateutil>=2.8.2->pandas) (1.16.0)\n"
     ]
    }
   ],
   "source": [
    "!pip install mysql-connector-python pandas openpyxl SQLAlchemy"
   ]
  },
  {
   "cell_type": "code",
   "execution_count": 2,
   "id": "26ee119b-717a-4002-a91d-9515a794dcd5",
   "metadata": {},
   "outputs": [
    {
     "name": "stdout",
     "output_type": "stream",
     "text": [
      "Connection successful!\n"
     ]
    }
   ],
   "source": [
    "import mysql.connector\n",
    "\n",
    "conn = mysql.connector.connect(\n",
    "    host='localhost',\n",
    "    user='root',\n",
    "    password='madhan07',\n",
    "    database='Hospital_Management'\n",
    ")\n",
    "\n",
    "if conn.is_connected():\n",
    "    print(\"Connection successful!\")\n",
    "else:\n",
    "    print(\"Connection failed.\")\n"
   ]
  },
  {
   "cell_type": "code",
   "execution_count": 3,
   "id": "311d22c2-b9d0-4ef8-a505-2ea55b396c54",
   "metadata": {},
   "outputs": [
    {
     "name": "stdout",
     "output_type": "stream",
     "text": [
      "All tables exported to 'Hospital_Data.xlsx'\n"
     ]
    }
   ],
   "source": [
    "import pandas as pd\n",
    "from sqlalchemy import create_engine\n",
    "\n",
    "db_user = 'root'\n",
    "db_password = 'madhan07'\n",
    "db_host = 'localhost'\n",
    "db_name = 'Hospital_Management' \n",
    "\n",
    "engine = create_engine(f\"mysql+mysqlconnector://{db_user}:{db_password}@{db_host}/{db_name}\")\n",
    "\n",
    "tables = [\"Admin\", \"Doctor\", \"Staff\", \"Room\", \"Patient\", \"Cashier\", \"Bill\", \"Appointment\"]\n",
    "\n",
    "with pd.ExcelWriter(\"Hospital_Data.xlsx\", engine='openpyxl') as writer:\n",
    "    for table in tables:\n",
    "        df = pd.read_sql(f\"SELECT * FROM {table}\", engine)\n",
    "        df.to_excel(writer, sheet_name=table, index=False)\n",
    "\n",
    "print(\"All tables exported to 'Hospital_Data.xlsx'\")\n"
   ]
  },
  {
   "cell_type": "code",
   "execution_count": null,
   "id": "3c522863-be0a-4732-be89-3366b4766e8a",
   "metadata": {},
   "outputs": [],
   "source": []
  }
 ],
 "metadata": {
  "kernelspec": {
   "display_name": "Python 3 (ipykernel)",
   "language": "python",
   "name": "python3"
  },
  "language_info": {
   "codemirror_mode": {
    "name": "ipython",
    "version": 3
   },
   "file_extension": ".py",
   "mimetype": "text/x-python",
   "name": "python",
   "nbconvert_exporter": "python",
   "pygments_lexer": "ipython3",
   "version": "3.12.7"
  }
 },
 "nbformat": 4,
 "nbformat_minor": 5
}
