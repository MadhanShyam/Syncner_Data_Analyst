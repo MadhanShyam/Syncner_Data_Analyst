{
 "cells": [
  {
   "cell_type": "code",
   "execution_count": 1,
   "id": "7c85bdc1-afe5-445d-b259-3ed1de0594b7",
   "metadata": {},
   "outputs": [
    {
     "name": "stdout",
     "output_type": "stream",
     "text": [
      "Requirement already satisfied: mysql-connector-python in c:\\users\\madhan shyam d\\anaconda3\\lib\\site-packages (9.2.0)\n",
      "Requirement already satisfied: pandas in c:\\users\\madhan shyam d\\anaconda3\\lib\\site-packages (2.2.2)\n",
      "Requirement already satisfied: openpyxl in c:\\users\\madhan shyam d\\anaconda3\\lib\\site-packages (3.1.5)\n",
      "Requirement already satisfied: SQLAlchemy in c:\\users\\madhan shyam d\\anaconda3\\lib\\site-packages (2.0.34)\n",
      "Requirement already satisfied: numpy>=1.26.0 in c:\\users\\madhan shyam d\\anaconda3\\lib\\site-packages (from pandas) (1.26.4)\n",
      "Requirement already satisfied: python-dateutil>=2.8.2 in c:\\users\\madhan shyam d\\anaconda3\\lib\\site-packages (from pandas) (2.9.0.post0)\n",
      "Requirement already satisfied: pytz>=2020.1 in c:\\users\\madhan shyam d\\anaconda3\\lib\\site-packages (from pandas) (2024.1)\n",
      "Requirement already satisfied: tzdata>=2022.7 in c:\\users\\madhan shyam d\\anaconda3\\lib\\site-packages (from pandas) (2023.3)\n",
      "Requirement already satisfied: et-xmlfile in c:\\users\\madhan shyam d\\anaconda3\\lib\\site-packages (from openpyxl) (1.1.0)\n",
      "Requirement already satisfied: typing-extensions>=4.6.0 in c:\\users\\madhan shyam d\\anaconda3\\lib\\site-packages (from SQLAlchemy) (4.11.0)\n",
      "Requirement already satisfied: greenlet!=0.4.17 in c:\\users\\madhan shyam d\\anaconda3\\lib\\site-packages (from SQLAlchemy) (3.0.1)\n",
      "Requirement already satisfied: six>=1.5 in c:\\users\\madhan shyam d\\anaconda3\\lib\\site-packages (from python-dateutil>=2.8.2->pandas) (1.16.0)\n"
     ]
    }
   ],
   "source": [
    "!pip install mysql-connector-python pandas openpyxl SQLAlchemy"
   ]
  },
  {
   "cell_type": "code",
   "execution_count": 3,
   "id": "b9a7a8f8-22f5-4940-b7e7-4d5d4e700d6b",
   "metadata": {},
   "outputs": [
    {
     "name": "stdout",
     "output_type": "stream",
     "text": [
      "Connection successful!\n"
     ]
    }
   ],
   "source": [
    "import mysql.connector\n",
    "\n",
    "conn = mysql.connector.connect(\n",
    "    host='localhost',\n",
    "    user='root',\n",
    "    password='madhan07',\n",
    "    database='hospital_management'\n",
    ")\n",
    "\n",
    "if conn.is_connected():\n",
    "    print(\"Connection successful!\")\n",
    "else:\n",
    "    print(\"Connection failed.\")"
   ]
  },
  {
   "cell_type": "code",
   "execution_count": 4,
   "id": "48114c8c-0a66-4232-8a0f-124581b9d66e",
   "metadata": {},
   "outputs": [
    {
     "name": "stdout",
     "output_type": "stream",
     "text": [
      "All tables exported to 'Hospital_Data.xlsx'\n"
     ]
    }
   ],
   "source": [
    "import pandas as pd\n",
    "from sqlalchemy import create_engine\n",
    "\n",
    "db_user = 'root'\n",
    "db_password = 'madhan07'\n",
    "db_host = 'localhost'\n",
    "db_name = 'hospital_management' \n",
    "\n",
    "engine = create_engine(f\"mysql+mysqlconnector://{db_user}:{db_password}@{db_host}/{db_name}\")\n",
    "\n",
    "tables = [\"Admin\", \"Doctor\", \"Staff\", \"Room\", \"Patient\", \"Cashier\", \"Bill\", \"Appointment\"]\n",
    "\n",
    "with pd.ExcelWriter(\"Hospital_Data.xlsx\", engine='openpyxl') as writer:\n",
    "    for table in tables:\n",
    "        df = pd.read_sql(f\"SELECT * FROM {table}\", engine)\n",
    "        df.to_excel(writer, sheet_name=table, index=False)\n",
    "\n",
    "print(\"All tables exported to 'Hospital_Data.xlsx'\")"
   ]
  },
  {
   "cell_type": "code",
   "execution_count": null,
   "id": "bbfe2baa-26b4-42d2-97a2-5a3a05fe0b56",
   "metadata": {},
   "outputs": [],
   "source": []
  }
 ],
 "metadata": {
  "kernelspec": {
   "display_name": "Python 3 (ipykernel)",
   "language": "python",
   "name": "python3"
  },
  "language_info": {
   "codemirror_mode": {
    "name": "ipython",
    "version": 3
   },
   "file_extension": ".py",
   "mimetype": "text/x-python",
   "name": "python",
   "nbconvert_exporter": "python",
   "pygments_lexer": "ipython3",
   "version": "3.12.7"
  }
 },
 "nbformat": 4,
 "nbformat_minor": 5
}
